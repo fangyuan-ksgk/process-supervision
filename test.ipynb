{
 "cells": [
  {
   "cell_type": "markdown",
   "metadata": {},
   "source": [
    "#### 1. Rule-class Builder Agent"
   ]
  },
  {
   "cell_type": "code",
   "execution_count": 1,
   "metadata": {},
   "outputs": [],
   "source": [
    "# Wrong Parsing, let's experiment with the parsing then ...\n",
    "import glob \n",
    "rule_dir = \"data/rulebook\"\n",
    "pdf_paths = glob.glob(f\"{rule_dir}/*.pdf\")\n",
    "pdf_path = pdf_paths[1] # pick the first one \n"
   ]
  },
  {
   "cell_type": "markdown",
   "metadata": {},
   "source": [
    "ok, comment: \n",
    "- tool will be function which takes pdf_path and page_range tuple as input. \n",
    "- agent will be able to control page_range only, but it will be provided with information about page_count, as well as currently parsed rule_list. \n",
    "- agent will also have tools to 'add', 'change', to the rule_list\n",
    "\n",
    "so, 3 tool funciton, one agent, prompt including page_count here is all I need"
   ]
  },
  {
   "cell_type": "code",
   "execution_count": 2,
   "metadata": {},
   "outputs": [],
   "source": [
    "from src.parse_agent import *\n",
    "\n",
    "parse_agent = ParseAgent(pdf_path)\n",
    "\n",
    "\n",
    "\n",
    "# parse_agent.process_command(\"I want to add rule 100\")\n",
    "user_input = default_user_input\n",
    "self = parse_agent\n",
    "prompt = f\"{PARSE_AGENT_SYSTEM_PROMPT}\\n\\nUser Input: {user_input}\\n\\nCurrent Rule List: {json.dumps(self.rule_list, indent=2)}\\nTotal Pages: {self.page_count}\\n\\nProvide your response in JSON format.\"\n",
    "response = get_oai_response(prompt)        \n",
    "action = extract_json_from_content(response)\n"
   ]
  },
  {
   "cell_type": "code",
   "execution_count": 3,
   "metadata": {},
   "outputs": [
    {
     "data": {
      "text/plain": [
       "{'tool': 'parse_rules_from_range', 'page_range': [1, 43]}"
      ]
     },
     "execution_count": 3,
     "metadata": {},
     "output_type": "execute_result"
    }
   ],
   "source": [
    "action"
   ]
  },
  {
   "cell_type": "code",
   "execution_count": null,
   "metadata": {},
   "outputs": [],
   "source": []
  }
 ],
 "metadata": {
  "kernelspec": {
   "display_name": "base",
   "language": "python",
   "name": "python3"
  },
  "language_info": {
   "codemirror_mode": {
    "name": "ipython",
    "version": 3
   },
   "file_extension": ".py",
   "mimetype": "text/x-python",
   "name": "python",
   "nbconvert_exporter": "python",
   "pygments_lexer": "ipython3",
   "version": "3.11.5"
  }
 },
 "nbformat": 4,
 "nbformat_minor": 2
}
