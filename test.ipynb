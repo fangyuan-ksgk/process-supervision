{
 "cells": [
  {
   "cell_type": "markdown",
   "metadata": {},
   "source": [
    "#### 1. Rule-class Builder Agent"
   ]
  },
  {
   "cell_type": "code",
   "execution_count": 1,
   "metadata": {},
   "outputs": [],
   "source": [
    "# Wrong Parsing, let's experiment with the parsing then ...\n",
    "import glob \n",
    "rule_dir = \"data/rulebook\"\n",
    "pdf_paths = glob.glob(f\"{rule_dir}/*.pdf\")\n",
    "pdf_path = pdf_paths[1] # pick the first one \n"
   ]
  },
  {
   "cell_type": "markdown",
   "metadata": {},
   "source": [
    "ok, comment: \n",
    "- tool will be function which takes pdf_path and page_range tuple as input. \n",
    "- agent will be able to control page_range only, but it will be provided with information about page_count, as well as currently parsed rule_list. \n",
    "- agent will also have tools to 'add', 'change', to the rule_list\n",
    "\n",
    "so, 3 tool funciton, one agent, prompt including page_count here is all I need"
   ]
  },
  {
   "cell_type": "code",
   "execution_count": null,
   "metadata": {},
   "outputs": [],
   "source": []
  },
  {
   "cell_type": "code",
   "execution_count": null,
   "metadata": {},
   "outputs": [],
   "source": []
  }
 ],
 "metadata": {
  "kernelspec": {
   "display_name": "base",
   "language": "python",
   "name": "python3"
  },
  "language_info": {
   "codemirror_mode": {
    "name": "ipython",
    "version": 3
   },
   "file_extension": ".py",
   "mimetype": "text/x-python",
   "name": "python",
   "nbconvert_exporter": "python",
   "pygments_lexer": "ipython3",
   "version": "3.11.5"
  }
 },
 "nbformat": 4,
 "nbformat_minor": 2
}
