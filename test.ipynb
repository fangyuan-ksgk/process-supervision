{
 "cells": [
  {
   "cell_type": "markdown",
   "metadata": {},
   "source": [
    "#### 1. PDF-parser Agent help with collecting rules"
   ]
  },
  {
   "cell_type": "code",
   "execution_count": 1,
   "metadata": {},
   "outputs": [
    {
     "name": "stderr",
     "output_type": "stream",
     "text": [
      "Processing PDFs:   0%|          | 0/4 [00:00<?, ?file/s]"
     ]
    },
    {
     "name": "stdout",
     "output_type": "stream",
     "text": [
      "ParseAgent initialized with PDF: raw/rulebook/02. RB 2_Access to Main Line and Depot Tracks during Traffic Hours.pdf\n",
      "Total pages: 101\n",
      "Parsing Agent Main Loop\n",
      "Parsing rules from range: 0-10\n",
      "After Paring, current rule_list: [{'no': '1', 'description': 'General overview and purpose of the rulebook for accessing tracks during traffic hours.', 'tags': ['general', 'purpose', 'staff duties'], 'file_path': 'raw/rulebook/02. RB 2_Access to Main Line and Depot Tracks during Traffic Hours.pdf', 'page_range': [5, 5]}, {'no': '2', 'description': 'Conditions for using authorized procedures for track access during traffic hours.', 'tags': ['conditions', 'authorized procedures', 'track access'], 'file_path': 'raw/rulebook/02. RB 2_Access to Main Line and Depot Tracks during Traffic Hours.pdf', 'page_range': [7, 8]}, {'no': '3', 'description': 'General rules for accessing tracks during traffic hours.', 'tags': ['rules', 'access', 'traffic hours'], 'file_path': 'raw/rulebook/02. RB 2_Access to Main Line and Depot Tracks during Traffic Hours.pdf', 'page_range': [9, 10]}]\n",
      "Parsing rules from range: 10-20\n"
     ]
    }
   ],
   "source": [
    "# Wrong Parsing, let's experiment with the parsing then ...\n",
    "import glob \n",
    "from src.parse_agent import ParseAgent\n",
    "from tqdm import tqdm\n",
    "\n",
    "rule_dir = \"raw/rulebook\"\n",
    "pdf_paths = glob.glob(f\"{rule_dir}/*.pdf\")\n",
    "for pdf_path in tqdm(pdf_paths, desc=\"Processing PDFs\", unit=\"file\"):\n",
    "    pdf_name = pdf_path.split(\"/\")[-1].replace(\" \", \"_\")\n",
    "    parse_agent = ParseAgent(pdf_path)\n",
    "    parse_agent.run()\n",
    "    parse_agent.save_rules(f\"database/rule/{pdf_name}\")"
   ]
  },
  {
   "cell_type": "code",
   "execution_count": null,
   "metadata": {},
   "outputs": [],
   "source": []
  }
 ],
 "metadata": {
  "kernelspec": {
   "display_name": "base",
   "language": "python",
   "name": "python3"
  },
  "language_info": {
   "codemirror_mode": {
    "name": "ipython",
    "version": 3
   },
   "file_extension": ".py",
   "mimetype": "text/x-python",
   "name": "python",
   "nbconvert_exporter": "python",
   "pygments_lexer": "ipython3",
   "version": "3.11.5"
  }
 },
 "nbformat": 4,
 "nbformat_minor": 2
}
